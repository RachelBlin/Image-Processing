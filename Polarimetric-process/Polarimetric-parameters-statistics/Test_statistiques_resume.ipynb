{
 "cells": [
  {
   "cell_type": "markdown",
   "metadata": {},
   "source": [
    "# Résumé des tests statistiques effectués #\n",
    "\n",
    "Dans ce notebook, on va répertorier les résumés des tests statistiques effectués pour chaque cas afin de pouvoir visualiser les résultats obtenus de façon plus concise.\n",
    "\n",
    "## Tests effectués sur le DOP ##\n",
    "\n",
    "|Paramètre testé|n|Valeur de W_0.005|Valeur de W|Suit une loi normale|\n",
    "|:------------|:-------------|:-------------|:-------------|:-------------|\n",
    "|Valeur moyenne du DOP brouillard début de matinée|30|0.927|0.7944|Non|\n",
    "|Valeur médiane du DOP brouillard début de matinée|30|0.927|0.6672|Non|\n",
    "|Valeur moyenne du DOP brouillard début de matinée FM|30|0.927|0.7704|Non|\n",
    "|Valeur médiane du DOP brouillard début de matinée FM|30|0.927|0.6269|Non|\n",
    "|Valeur moyenne du DOP brumeux fin d'après-midi|27|0.923|0.8933|Non|\n",
    "|Valeur médiane du DOP brumeux fin d'après-midi|27|0.923|0.9467|Oui|\n",
    "|Valeur moyenne du DOP brumeux fin d'après-midi FM|27|0.923|0.8912|Non|\n",
    "|Valeur médiane du DOP brumeux fin d'après-midi FM|27|0.923|0.9693|Oui|\n",
    "|Valeur moyenne du DOP couvert début de matinée|36|0.935|0.9095|Non|\n",
    "|Valeur médiane du DOP couvert début de matinée|36|0.935|0.9274|Non|\n",
    "|Valeur moyenne du DOP couvert début de matinée FM|36|0.935|0.9061|Non|\n",
    "|Valeur médiane du DOP couvert début de matinée FM|36|0.935|0.9019|Non|\n",
    "\n",
    "FM = Filtre Médian\n",
    "\n",
    "## Tests effectués sur l'AOP ##\n",
    "\n",
    "|Paramètre testé|n|Valeur de W_0.005|Valeur de W|Suit une loi normale|\n",
    "|:------------|:-------------|:-------------|:-------------|:-------------|\n",
    "|Valeur moyenne de l'AOP brouillard début de matinée|36|0.935|0.8906|Non|\n",
    "|Valeur médiane de l'AOP brouillard début de matinée|36|0.935|0.8938|Non|\n",
    "|Valeur moyenne de l'AOP brouillard début de matinée FM|36|0.935|0.9666|Oui|\n",
    "|Valeur médiane de l'AOP brouillard début de matinée FM|36|0.935|0.8938|Non|\n",
    "|Valeur moyenne de l'AOP ensoleillé fin d'après-midi|21|0.908|0.8062|Oui|\n",
    "|Valeur médiane de l'AOP ensoleillé fin d'après-midi|21|0.908|0.9161|Oui|\n",
    "|Valeur moyenne de l'AOP ensoleillé fin d'après-midi FM|21|0.908|0.9763|Oui|\n",
    "|Valeur médiane de l'AOP ensoleillé fin d'après-midi FM|21|0.908|0.9263|Oui|\n",
    "|Valeur moyenne de l'AOP couvert fin de matinée|35|0.934|0.9368|Oui|\n",
    "|Valeur médiane de l'AOP couvert fin de matinée|35|0.934|0.8821|Non|\n",
    "|Valeur moyenne de l'AOP couvert fin de matinée FM|35|0.934|0.9374|Oui|\n",
    "|Valeur médiane de l'AOP couvert fin de matinée FM|35|0.934|0.8727|Non|\n",
    "\n",
    "FM = Filtre Médian\n",
    "\n",
    "## Tests effectués sur la valeur du DOP la plus présente dans une image ##\n",
    "\n",
    "|Paramètre testé|n|Valeur de W_0.005|Valeur de W|Suit une loi normale|\n",
    "|:------------|:-------------|:-------------|:-------------|:-------------|\n",
    "|Valeur la plus présente DOP couvert début de matinée|36|0.935|0.9573|Oui|\n",
    "|Valeur la plus présente DOP brumeux fin d'après-midi|27|0.923|0.9328|Oui|\n",
    "|Valeur la plus présente DOP brouillard début de matinée|30|0.927|0.9130|Non|\n",
    "\n",
    "## Tests effectués sur la valeur de l'AOP la plus présente dans une image ##\n",
    "\n",
    "|Paramètre testé|n|Valeur de W_0.005|Valeur de W|Suit une loi normale|\n",
    "|:------------|:-------------|:-------------|:-------------|:-------------|\n",
    "|Valeur la plus présente AOP brouillard début de matinée|36|0.935|0.8299|Non|\n",
    "|Valeur la plus présente AOP ensoleillé fin d'après-midi|21|0.908|0.5339|Non|\n",
    "|Valeur la plus présente AOP couvert fin de matinée|35|0.934|0.7173|Non|"
   ]
  },
  {
   "cell_type": "code",
   "execution_count": null,
   "metadata": {},
   "outputs": [],
   "source": []
  }
 ],
 "metadata": {
  "kernelspec": {
   "display_name": "Python 3",
   "language": "python",
   "name": "python3"
  },
  "language_info": {
   "codemirror_mode": {
    "name": "ipython",
    "version": 3
   },
   "file_extension": ".py",
   "mimetype": "text/x-python",
   "name": "python",
   "nbconvert_exporter": "python",
   "pygments_lexer": "ipython3",
   "version": "3.7.0"
  }
 },
 "nbformat": 4,
 "nbformat_minor": 2
}
